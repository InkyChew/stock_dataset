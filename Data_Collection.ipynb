{
 "cells": [
  {
   "cell_type": "code",
   "execution_count": null,
   "metadata": {},
   "outputs": [],
   "source": [
    "##創資料夾\n",
    "import os\n",
    "import datetime\n",
    "end = datetime.date.today()\n",
    "\n",
    "def mkdir(path):\n",
    "    folder = os.path.exists(path)\n",
    "    #判斷結果\n",
    "    if not folder:\n",
    "        #如果不存在，則建立新目錄\n",
    "        os.makedirs(path)\n",
    "        print('-----建立成功-----')\n",
    "    else:\n",
    "        #如果目錄已存在，則不建立，提示目錄已存在\n",
    "        print(path+'目錄已存在')\n",
    "path = str(end) + '_50+6_stock'\n",
    "mkdir(path)"
   ]
  },
  {
   "cell_type": "markdown",
   "metadata": {},
   "source": [
    "# 獲取台股資料"
   ]
  },
  {
   "cell_type": "code",
   "execution_count": null,
   "metadata": {},
   "outputs": [],
   "source": [
    "## 資料匯出\n",
    "import pandas as pd\n",
    "def OutputCSV(sid, stock_dr):\n",
    "    Result = path + '/' + sid + '.csv'\n",
    "    df_SAMPLE = pd.DataFrame.from_dict(stock_dr)\n",
    "    df_SAMPLE.to_csv(Result, index=True)\n",
    "    print('成功產出'+ Result)"
   ]
  },
  {
   "cell_type": "code",
   "execution_count": null,
   "metadata": {},
   "outputs": [],
   "source": [
    "import pandas as pd\n",
    "import datetime\n",
    "from pandas_datareader import data\n",
    "import time\n",
    "\n",
    "# 與yahoo請求，套件路徑因版本不同\n",
    "#pd.core.common.is_list_like = pd.api.types.is_list_like\n",
    "\n",
    "start  = datetime.datetime(2000,1,1,0,0,0)\n",
    "end = datetime.date.today()\n",
    "def get_taiwan50data():\n",
    "    path = 'StockList_0728.xlsx' ## 人工建資料\n",
    "    df = pd.read_excel(path) ## 拿到 台灣50指數成分股\n",
    "    for sid in df['代號']:\n",
    "        sid = str(sid)\n",
    "        TW_stock_dr = data.get_data_yahoo(sid+'.TW', start, end)\n",
    "        TW_stock_dr = insert_MA(TW_stock_dr)\n",
    "        TW_stock_dr = insert_KDJ(TW_stock_dr)\n",
    "        TW_stock_dr = insert_KDX(TW_stock_dr)\n",
    "        TW_stock_dr = insert_RSI(TW_stock_dr)\n",
    "        # 合併美股資料\n",
    "        combine_data(TW_stock_dr, sid)"
   ]
  },
  {
   "cell_type": "code",
   "execution_count": null,
   "metadata": {},
   "outputs": [],
   "source": [
    "def insert_MA(data):\n",
    "    MA_5days = data['Close'].rolling(5).mean()\n",
    "    MA_20days = data['Close'].rolling(20).mean()\n",
    "    MA_240days = data['Close'].rolling(240).mean()\n",
    "    data['MA_5days'] = MA_5days\n",
    "    data['MA_20days'] = MA_20days\n",
    "    data['MA_240days'] = MA_240days\n",
    "    return data"
   ]
  },
  {
   "cell_type": "code",
   "execution_count": null,
   "metadata": {},
   "outputs": [],
   "source": [
    "def insert_KDJ(data):\n",
    "    low_list = data['Low'].rolling(window=9).min()\n",
    "    high_list = data['High'].rolling(window=9).max()\n",
    "    rsv = (data['Close'] - low_list) / (high_list - low_list) * 100\n",
    "    data['K_value'] = rsv.ewm(com=2).mean() \n",
    "    data['D_value'] = data['K_value'].ewm(com=2).mean()\n",
    "    data['J_value'] = 3 * data['K_value'] - 2 * data['D_value']\n",
    "    return data"
   ]
  },
  {
   "cell_type": "code",
   "execution_count": null,
   "metadata": {},
   "outputs": [],
   "source": [
    "def insert_KDX(data):\n",
    "    data['KDJ_金叉死叉'] = ''\n",
    "    KDX = data['K_value'] > data['D_value']\n",
    "    data.loc[KDX[(KDX == True) & (KDX.shift() == False)].index, 'KDJ_金叉死叉'] = '金叉'\n",
    "    data.loc[KDX[(KDX == False) & (KDX.shift() == True)].index, 'KDJ_金叉死叉'] = '死叉'\n",
    "    return data"
   ]
  },
  {
   "cell_type": "code",
   "execution_count": null,
   "metadata": {},
   "outputs": [],
   "source": [
    "import numpy as np\n",
    "import pandas as pd\n",
    "import talib\n",
    "def insert_RSI(data):\n",
    "    data['RSI6'] = talib.RSI(data['Close'],timeperiod=6) \n",
    "    data['RSI12'] = talib.RSI(data['Close'],timeperiod=12) \n",
    "    return data"
   ]
  },
  {
   "cell_type": "markdown",
   "metadata": {},
   "source": [
    "# 獲取美股資料"
   ]
  },
  {
   "cell_type": "code",
   "execution_count": null,
   "metadata": {},
   "outputs": [],
   "source": [
    "list_USstock = ['^DJI','^GSPC','^IXIC','^SOX','^NYA']\n",
    "def get_USAstockdata():\n",
    "    combine_TW_stock = None\n",
    "    for sid in list_USstock:\n",
    "        US_stock_dr = data.get_data_yahoo(sid, start, end)\n",
    "        US_stock_dr = insert_MA(US_stock_dr)\n",
    "        US_stock_dr = insert_KDJ(US_stock_dr)\n",
    "        US_stock_dr = insert_KDX(US_stock_dr)\n",
    "        US_stock_dr = insert_RSI(US_stock_dr)\n",
    "        OutputCSV(sid, US_stock_dr)\n",
    "        print(\"sleep 10 seconds.\")\n",
    "        time.sleep(10)\n",
    "        print(\"printed after 10 seconds.\")\n",
    "\n",
    "# 將美股合併至台股中\n",
    "def combine_data(TW_stock_dr, TW_sid):\n",
    "    path = str(end) + '_50+6_stock'\n",
    "    combine_TW_stock = None\n",
    "    for sid in list_USstock:\n",
    "        file_path = path + '/' + sid + '.csv'\n",
    "        US_stock_dr = pd.read_csv(file_path)\n",
    "        combine_US_stock = TW_stock_dr.combine_first(US_stock_dr)\n",
    "        combine_TW_stock = pd.concat([combine_TW_stock,combine_US_stock]).sort_values(by='Date').drop_duplicates()\n",
    "    OutputCSV(TW_sid, combine_TW_stock)\n",
    "    print(\"sleep 10 seconds.\")\n",
    "    time.sleep(10)\n",
    "    print(\"printed after 10 seconds.\")"
   ]
  },
  {
   "cell_type": "code",
   "execution_count": null,
   "metadata": {
    "scrolled": true
   },
   "outputs": [],
   "source": [
    "get_USAstockdata()"
   ]
  },
  {
   "cell_type": "code",
   "execution_count": null,
   "metadata": {
    "scrolled": false
   },
   "outputs": [],
   "source": [
    "get_taiwan50data()"
   ]
  },
  {
   "cell_type": "code",
   "execution_count": null,
   "metadata": {},
   "outputs": [],
   "source": []
  }
 ],
 "metadata": {
  "kernelspec": {
   "display_name": "Python 3",
   "language": "python",
   "name": "python3"
  },
  "language_info": {
   "codemirror_mode": {
    "name": "ipython",
    "version": 3
   },
   "file_extension": ".py",
   "mimetype": "text/x-python",
   "name": "python",
   "nbconvert_exporter": "python",
   "pygments_lexer": "ipython3",
   "version": "3.7.6"
  }
 },
 "nbformat": 4,
 "nbformat_minor": 4
}
